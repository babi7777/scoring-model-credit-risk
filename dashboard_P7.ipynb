{
 "cells": [
  {
   "cell_type": "code",
   "execution_count": 2,
   "id": "f134a930-db24-46a2-a60f-f8cdd40ad996",
   "metadata": {},
   "outputs": [
    {
     "name": "stderr",
     "output_type": "stream",
     "text": [
      "Using `tqdm.autonotebook.tqdm` in notebook mode. Use `tqdm.tqdm` instead to force console mode (e.g. in jupyter console)\n"
     ]
    }
   ],
   "source": [
    "import streamlit as st\n",
    "import pandas as pd\n",
    "import requests\n",
    "import shap"
   ]
  },
  {
   "cell_type": "code",
   "execution_count": 18,
   "id": "e6a6a6f1-4d6a-4a67-b867-e173b4fd0a0e",
   "metadata": {
    "scrolled": true
   },
   "outputs": [
    {
     "ename": "JSONDecodeError",
     "evalue": "Expecting value: line 7 column 1 (char 6)",
     "output_type": "error",
     "traceback": [
      "\u001b[1;31m---------------------------------------------------------------------------\u001b[0m",
      "\u001b[1;31mJSONDecodeError\u001b[0m                           Traceback (most recent call last)",
      "File \u001b[1;32m~\\anaconda3\\envs\\projet7\\lib\\site-packages\\requests\\models.py:971\u001b[0m, in \u001b[0;36mResponse.json\u001b[1;34m(self, **kwargs)\u001b[0m\n\u001b[0;32m    970\u001b[0m \u001b[38;5;28;01mtry\u001b[39;00m:\n\u001b[1;32m--> 971\u001b[0m     \u001b[38;5;28;01mreturn\u001b[39;00m complexjson\u001b[38;5;241m.\u001b[39mloads(\u001b[38;5;28mself\u001b[39m\u001b[38;5;241m.\u001b[39mtext, \u001b[38;5;241m*\u001b[39m\u001b[38;5;241m*\u001b[39mkwargs)\n\u001b[0;32m    972\u001b[0m \u001b[38;5;28;01mexcept\u001b[39;00m JSONDecodeError \u001b[38;5;28;01mas\u001b[39;00m e:\n\u001b[0;32m    973\u001b[0m     \u001b[38;5;66;03m# Catch JSON-related errors and raise as requests.JSONDecodeError\u001b[39;00m\n\u001b[0;32m    974\u001b[0m     \u001b[38;5;66;03m# This aliases json.JSONDecodeError and simplejson.JSONDecodeError\u001b[39;00m\n",
      "File \u001b[1;32m~\\anaconda3\\envs\\projet7\\lib\\json\\__init__.py:346\u001b[0m, in \u001b[0;36mloads\u001b[1;34m(s, cls, object_hook, parse_float, parse_int, parse_constant, object_pairs_hook, **kw)\u001b[0m\n\u001b[0;32m    343\u001b[0m \u001b[38;5;28;01mif\u001b[39;00m (\u001b[38;5;28mcls\u001b[39m \u001b[38;5;129;01mis\u001b[39;00m \u001b[38;5;28;01mNone\u001b[39;00m \u001b[38;5;129;01mand\u001b[39;00m object_hook \u001b[38;5;129;01mis\u001b[39;00m \u001b[38;5;28;01mNone\u001b[39;00m \u001b[38;5;129;01mand\u001b[39;00m\n\u001b[0;32m    344\u001b[0m         parse_int \u001b[38;5;129;01mis\u001b[39;00m \u001b[38;5;28;01mNone\u001b[39;00m \u001b[38;5;129;01mand\u001b[39;00m parse_float \u001b[38;5;129;01mis\u001b[39;00m \u001b[38;5;28;01mNone\u001b[39;00m \u001b[38;5;129;01mand\u001b[39;00m\n\u001b[0;32m    345\u001b[0m         parse_constant \u001b[38;5;129;01mis\u001b[39;00m \u001b[38;5;28;01mNone\u001b[39;00m \u001b[38;5;129;01mand\u001b[39;00m object_pairs_hook \u001b[38;5;129;01mis\u001b[39;00m \u001b[38;5;28;01mNone\u001b[39;00m \u001b[38;5;129;01mand\u001b[39;00m \u001b[38;5;129;01mnot\u001b[39;00m kw):\n\u001b[1;32m--> 346\u001b[0m     \u001b[38;5;28;01mreturn\u001b[39;00m \u001b[43m_default_decoder\u001b[49m\u001b[38;5;241;43m.\u001b[39;49m\u001b[43mdecode\u001b[49m\u001b[43m(\u001b[49m\u001b[43ms\u001b[49m\u001b[43m)\u001b[49m\n\u001b[0;32m    347\u001b[0m \u001b[38;5;28;01mif\u001b[39;00m \u001b[38;5;28mcls\u001b[39m \u001b[38;5;129;01mis\u001b[39;00m \u001b[38;5;28;01mNone\u001b[39;00m:\n",
      "File \u001b[1;32m~\\anaconda3\\envs\\projet7\\lib\\json\\decoder.py:337\u001b[0m, in \u001b[0;36mJSONDecoder.decode\u001b[1;34m(self, s, _w)\u001b[0m\n\u001b[0;32m    333\u001b[0m \u001b[38;5;250m\u001b[39m\u001b[38;5;124;03m\"\"\"Return the Python representation of ``s`` (a ``str`` instance\u001b[39;00m\n\u001b[0;32m    334\u001b[0m \u001b[38;5;124;03mcontaining a JSON document).\u001b[39;00m\n\u001b[0;32m    335\u001b[0m \n\u001b[0;32m    336\u001b[0m \u001b[38;5;124;03m\"\"\"\u001b[39;00m\n\u001b[1;32m--> 337\u001b[0m obj, end \u001b[38;5;241m=\u001b[39m \u001b[38;5;28;43mself\u001b[39;49m\u001b[38;5;241;43m.\u001b[39;49m\u001b[43mraw_decode\u001b[49m\u001b[43m(\u001b[49m\u001b[43ms\u001b[49m\u001b[43m,\u001b[49m\u001b[43m \u001b[49m\u001b[43midx\u001b[49m\u001b[38;5;241;43m=\u001b[39;49m\u001b[43m_w\u001b[49m\u001b[43m(\u001b[49m\u001b[43ms\u001b[49m\u001b[43m,\u001b[49m\u001b[43m \u001b[49m\u001b[38;5;241;43m0\u001b[39;49m\u001b[43m)\u001b[49m\u001b[38;5;241;43m.\u001b[39;49m\u001b[43mend\u001b[49m\u001b[43m(\u001b[49m\u001b[43m)\u001b[49m\u001b[43m)\u001b[49m\n\u001b[0;32m    338\u001b[0m end \u001b[38;5;241m=\u001b[39m _w(s, end)\u001b[38;5;241m.\u001b[39mend()\n",
      "File \u001b[1;32m~\\anaconda3\\envs\\projet7\\lib\\json\\decoder.py:355\u001b[0m, in \u001b[0;36mJSONDecoder.raw_decode\u001b[1;34m(self, s, idx)\u001b[0m\n\u001b[0;32m    354\u001b[0m \u001b[38;5;28;01mexcept\u001b[39;00m \u001b[38;5;167;01mStopIteration\u001b[39;00m \u001b[38;5;28;01mas\u001b[39;00m err:\n\u001b[1;32m--> 355\u001b[0m     \u001b[38;5;28;01mraise\u001b[39;00m JSONDecodeError(\u001b[38;5;124m\"\u001b[39m\u001b[38;5;124mExpecting value\u001b[39m\u001b[38;5;124m\"\u001b[39m, s, err\u001b[38;5;241m.\u001b[39mvalue) \u001b[38;5;28;01mfrom\u001b[39;00m \u001b[38;5;28;01mNone\u001b[39;00m\n\u001b[0;32m    356\u001b[0m \u001b[38;5;28;01mreturn\u001b[39;00m obj, end\n",
      "\u001b[1;31mJSONDecodeError\u001b[0m: Expecting value: line 7 column 1 (char 6)",
      "\nDuring handling of the above exception, another exception occurred:\n",
      "\u001b[1;31mJSONDecodeError\u001b[0m                           Traceback (most recent call last)",
      "Cell \u001b[1;32mIn[18], line 129\u001b[0m\n\u001b[0;32m    125\u001b[0m         shap\u001b[38;5;241m.\u001b[39mforce_plot(explainer\u001b[38;5;241m.\u001b[39mexpected_value[\u001b[38;5;241m1\u001b[39m], shap_values_client[\u001b[38;5;241m1\u001b[39m][\u001b[38;5;241m0\u001b[39m], client_data, matplotlib\u001b[38;5;241m=\u001b[39m\u001b[38;5;28;01mTrue\u001b[39;00m)\n\u001b[0;32m    128\u001b[0m \u001b[38;5;28;01mif\u001b[39;00m \u001b[38;5;18m__name__\u001b[39m \u001b[38;5;241m==\u001b[39m \u001b[38;5;124m'\u001b[39m\u001b[38;5;124m__main__\u001b[39m\u001b[38;5;124m'\u001b[39m:\n\u001b[1;32m--> 129\u001b[0m     \u001b[43mmain\u001b[49m\u001b[43m(\u001b[49m\u001b[43m)\u001b[49m\n",
      "Cell \u001b[1;32mIn[18], line 11\u001b[0m, in \u001b[0;36mmain\u001b[1;34m()\u001b[0m\n\u001b[0;32m      9\u001b[0m \u001b[38;5;66;03m# Obtenir la liste des ID clients disponibles depuis l'API\u001b[39;00m\n\u001b[0;32m     10\u001b[0m available_ids_response \u001b[38;5;241m=\u001b[39m requests\u001b[38;5;241m.\u001b[39mget(\u001b[38;5;124mf\u001b[39m\u001b[38;5;124m\"\u001b[39m\u001b[38;5;132;01m{\u001b[39;00mapi_base_url\u001b[38;5;132;01m}\u001b[39;00m\u001b[38;5;124m/clients\u001b[39m\u001b[38;5;124m\"\u001b[39m)\n\u001b[1;32m---> 11\u001b[0m available_ids_data \u001b[38;5;241m=\u001b[39m \u001b[43mavailable_ids_response\u001b[49m\u001b[38;5;241;43m.\u001b[39;49m\u001b[43mjson\u001b[49m\u001b[43m(\u001b[49m\u001b[43m)\u001b[49m\n\u001b[0;32m     12\u001b[0m available_ids \u001b[38;5;241m=\u001b[39m available_ids_data[\u001b[38;5;124m\"\u001b[39m\u001b[38;5;124mavailable_ids\u001b[39m\u001b[38;5;124m\"\u001b[39m]\n\u001b[0;32m     14\u001b[0m \u001b[38;5;66;03m# Sélectionner un ID client dans une liste déroulante\u001b[39;00m\n",
      "File \u001b[1;32m~\\anaconda3\\envs\\projet7\\lib\\site-packages\\requests\\models.py:975\u001b[0m, in \u001b[0;36mResponse.json\u001b[1;34m(self, **kwargs)\u001b[0m\n\u001b[0;32m    971\u001b[0m     \u001b[38;5;28;01mreturn\u001b[39;00m complexjson\u001b[38;5;241m.\u001b[39mloads(\u001b[38;5;28mself\u001b[39m\u001b[38;5;241m.\u001b[39mtext, \u001b[38;5;241m*\u001b[39m\u001b[38;5;241m*\u001b[39mkwargs)\n\u001b[0;32m    972\u001b[0m \u001b[38;5;28;01mexcept\u001b[39;00m JSONDecodeError \u001b[38;5;28;01mas\u001b[39;00m e:\n\u001b[0;32m    973\u001b[0m     \u001b[38;5;66;03m# Catch JSON-related errors and raise as requests.JSONDecodeError\u001b[39;00m\n\u001b[0;32m    974\u001b[0m     \u001b[38;5;66;03m# This aliases json.JSONDecodeError and simplejson.JSONDecodeError\u001b[39;00m\n\u001b[1;32m--> 975\u001b[0m     \u001b[38;5;28;01mraise\u001b[39;00m RequestsJSONDecodeError(e\u001b[38;5;241m.\u001b[39mmsg, e\u001b[38;5;241m.\u001b[39mdoc, e\u001b[38;5;241m.\u001b[39mpos)\n",
      "\u001b[1;31mJSONDecodeError\u001b[0m: Expecting value: line 7 column 1 (char 6)"
     ]
    }
   ],
   "source": [
    "import streamlit as st\n",
    "import pandas as pd\n",
    "import requests\n",
    "import shap\n",
    "\n",
    "def main():\n",
    "    api_base_url = \"https://github.com/babi7777/scoring-model-credit-risk/raw/main/api.py\"\n",
    "    ids_endpoint = f\"{api_base_url}/clients\"\n",
    "    client_data_endpoint = f\"{api_base_url}/client/{{client_id}}\"\n",
    "    \n",
    "    # Obtenir la liste des ID clients disponibles depuis l'API\n",
    "    available_ids_response = requests.get(ids_endpoint)\n",
    "    available_ids_data = available_ids_response.json()\n",
    "    available_ids = available_ids_data[\"available_ids\"]\n",
    "\n",
    "    # Sélectionner un ID client dans une liste déroulante\n",
    "    selected_id = st.selectbox(\"Sélectionner un ID client\", available_ids)\n",
    "\n",
    "    # Obtenir les données du client depuis l'API\n",
    "    client_info_response = requests.get(client_data_endpoint)\n",
    "    client_info = client_info_response.json()\n",
    "\n",
    "    @st.cache_data()\n",
    "    def get_client_preprocessed_data(client_id):\n",
    "        api_url = f\"{api_base_url}/client_preprocessed/{client_id}\"  \n",
    "        response = requests.get(api_url)\n",
    "        client_preprocessed_data = response.json()\n",
    "        data = pd.DataFrame.from_dict(client_preprocessed_data, orient='columns')\n",
    "        return data\n",
    "\n",
    "    # Charger le modèle depuis l'API\n",
    "    model_response = requests.get(f\"{api_base_url}/model\")\n",
    "    model = joblib.load(io.BytesIO(model_response.content))\n",
    "\n",
    "    html_temp = \"\"\"\n",
    "    <div style=\"background-color: #475f4e ; padding:10px; border-radius:10px\">\n",
    "    <h1 style=\"color: #d9ae13; text-align:center\">Dashboard de Prédiction de Crédit</h1>\n",
    "    </div>\n",
    "    <p style=\"font-size: 20px; font-weight: bold; text-align:center\">Credit decision support…</p>\n",
    "    \"\"\"\n",
    "    st.markdown(html_temp, unsafe_allow_html=True)       \n",
    "    \n",
    "    # Changer la couleur du sidebar\n",
    "    st.markdown(\n",
    "        \"\"\"\n",
    "        <style>\n",
    "        .sidebar .sidebar-content {\n",
    "            background-color: #89a791; /* Couleur de fond du sLidebar */\n",
    "        }\n",
    "        </style>\n",
    "        \"\"\",\n",
    "        unsafe_allow_html=True\n",
    "    )\n",
    "    # Interface Streamlit    \n",
    "    st.sidebar.title(\"Informations Générales\")\n",
    "    # Personnaliser la couleur du sidebar\n",
    "    st.markdown(\n",
    "        \"\"\"\n",
    "        <style>\n",
    "        .sidebar .sidebar-content {\n",
    "            background-color: #89a791;\n",
    "        }\n",
    "        </style>\n",
    "        \"\"\",\n",
    "        unsafe_allow_html=True\n",
    "    )\n",
    "            \n",
    "    # Afficher les informations du client\n",
    "    st.sidebar.subheader(\"Informations du Client\")\n",
    "    st.sidebar.write(\"Age :\", int(client_data[\"DAYS_BIRTH\"] / -365), \"ans\")\n",
    "    st.sidebar.write(\"Revenu total :\", client_data[\"AMT_INCOME_TOTAL\"])\n",
    "    st.sidebar.write(\"Montant de crédit demandé :\", client_data[\"AMT_CREDIT\"])\n",
    "    st.sidebar.write(\"Montant de l'annuité :\", client_data[\"AMT_ANNUITY\"])\n",
    "    st.sidebar.write(\"Montant des biens pour le crédit :\", client_data[\"AMT_GOODS_PRICE\"])\n",
    "    \n",
    "    if st.button(\"Prédire\"):\n",
    "        # Obtenir les données prétraitées correspondant à l'ID sélectionné depuis l'API\n",
    "        client_data = get_client_preprocessed_data(selected_id)        \n",
    "        \n",
    "        # Obtenir la valeur de TARGET pour le client sélectionné à partir des données brutes\n",
    "        target_value = client_info.loc[selected_id, \"TARGET\"]\n",
    "        # Faire une prédiction avec le modèle\n",
    "        prediction_proba = model.predict_proba(client_data.values.reshape(1, -1))[:, 1]\n",
    "        prediction = \"Refusé\" if prediction_proba >= 0.435 else \"Accepté\"\n",
    "\n",
    "        # Comparer la prédiction avec la vraie valeur de TARGET\n",
    "        if prediction == \"Refusé\" and target_value == 1:\n",
    "            prediction_check = \"Correct (Vrai positif)\"\n",
    "        elif prediction == \"Accepté\" and target_value == 0:\n",
    "            prediction_check = \"Correct (Vrai négatif)\"\n",
    "        else:\n",
    "            prediction_check = \"Incorrect\"\n",
    "    \n",
    "        # Afficher la prédiction\n",
    "        st.subheader(\"Résultat de Prédiction\")\n",
    "        if prediction == \"Accepté\":\n",
    "            st.write(f\"Probabilité de Prédiction : {prediction_proba[0]:.4f}\")\n",
    "            st.markdown(f\"<p style='font-size:18px; font-weight:bold; color:green;'>{prediction}</p>\", unsafe_allow_html=True)\n",
    "        else:\n",
    "            st.write(f\"Probabilité de Prédiction : {prediction_proba[0]:.4f}\")\n",
    "            st.markdown(f\"<p style='font-size:18px; font-weight:bold; color:red;'>{prediction}</p>\", unsafe_allow_html=True)\n",
    "        st.write(f\"Probabilité de Prédiction : {prediction_proba[0]:.4f}\")\n",
    "                \n",
    "        st.write(f\"Valeur de TARGET réelle : {target_value}\")\n",
    "\n",
    "        # Afficher les messages correspondants\n",
    "        if prediction == \"Refusé\":\n",
    "            st.write(\"La prédiction indique un refus de crédit.\")\n",
    "            if target_value == 1:\n",
    "                st.write(\"La valeur de TARGET réelle confirme un défaut de paiement.\")\n",
    "            else:\n",
    "                st.write(\"La valeur de TARGET réelle indique une non-défaillance de paiement.\")\n",
    "        else:\n",
    "            st.write(\"La prédiction indique une acceptation de crédit.\")\n",
    "            if target_value == 0:\n",
    "                st.write(\"La valeur de TARGET réelle confirme une non-défaillance de paiement.\")\n",
    "            else:\n",
    "                st.write(\"La valeur de TARGET réelle indique un défaut de paiement.\")\n",
    "    \n",
    "        # Calculer les valeurs SHAP pour le client        \n",
    "        explainer = shap.TreeExplainer(model)        \n",
    "    \n",
    "        # Afficher l'interprétation SHAP des features        \n",
    "        st.subheader(\"Interprétation SHAP des Features\")        \n",
    "        client_data_df = pd.DataFrame([client_data], columns=client_data.index)\n",
    "        shap_values_client = explainer.shap_values(client_data_df)\n",
    "        shap.force_plot(explainer.expected_value[1], shap_values_client[1][0], client_data, matplotlib=True)\n",
    "       \n",
    "\n",
    "if __name__ == '__main__':\n",
    "    main()"
   ]
  },
  {
   "cell_type": "code",
   "execution_count": 13,
   "id": "388eea56-63ef-4394-a511-41bdbb176e1c",
   "metadata": {},
   "outputs": [],
   "source": [
    "\n"
   ]
  },
  {
   "cell_type": "code",
   "execution_count": 19,
   "id": "3ea4fa76-da22-4112-827f-a847ca2bcf8c",
   "metadata": {},
   "outputs": [
    {
     "data": {
      "text/plain": [
       "<Response [200]>"
      ]
     },
     "execution_count": 19,
     "metadata": {},
     "output_type": "execute_result"
    }
   ],
   "source": [
    "requests.get(f\"https://github.com/babi7777/scoring-model-credit-risk/raw/main/api.py\")\n",
    "    "
   ]
  }
 ],
 "metadata": {
  "kernelspec": {
   "display_name": "Python 3 (ipykernel)",
   "language": "python",
   "name": "python3"
  },
  "language_info": {
   "codemirror_mode": {
    "name": "ipython",
    "version": 3
   },
   "file_extension": ".py",
   "mimetype": "text/x-python",
   "name": "python",
   "nbconvert_exporter": "python",
   "pygments_lexer": "ipython3",
   "version": "3.9.16"
  }
 },
 "nbformat": 4,
 "nbformat_minor": 5
}
